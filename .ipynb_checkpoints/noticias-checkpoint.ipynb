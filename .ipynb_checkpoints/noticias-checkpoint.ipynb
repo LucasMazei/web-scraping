{
 "cells": [
  {
   "cell_type": "code",
   "execution_count": 1,
   "metadata": {},
   "outputs": [],
   "source": [
    "from bs4 import BeautifulSoup as soup  # HTML data structure\n",
    "import requests # Web client\n",
    "import urllib  # Web client\n",
    "from IPython.display import clear_output # Função para limpar a tela\n",
    "import webbrowser # biblioteca para abrir um link"
   ]
  },
  {
   "cell_type": "code",
   "execution_count": 2,
   "metadata": {
    "tags": [
     "outputPrepend"
    ]
   },
   "outputs": [
    {
     "output_type": "stream",
     "name": "stdout",
     "text": "las-em-sinop-vimeo-thumbnail-1024x576.jpg 1024w, https://www.sonoticias.com.br/wp-content/uploads/2020/04/secretaria-de-educacao-e-favoravel-retomar-aulas-em-sinop-vimeo-thumbnail-990x556.jpg 990w, https://www.sonoticias.com.br/wp-content/uploads/2020/04/secretaria-de-educacao-e-favoravel-retomar-aulas-em-sinop-vimeo-thumbnail-1320x742.jpg 1320w, https://www.sonoticias.com.br/wp-content/uploads/2020/04/secretaria-de-educacao-e-favoravel-retomar-aulas-em-sinop-vimeo-thumbnail-470x264.jpg 470w, https://www.sonoticias.com.br/wp-content/uploads/2020/04/secretaria-de-educacao-e-favoravel-retomar-aulas-em-sinop-vimeo-thumbnail-640x360.jpg 640w, https://www.sonoticias.com.br/wp-content/uploads/2020/04/secretaria-de-educacao-e-favoravel-retomar-aulas-em-sinop-vimeo-thumbnail-215x120.jpg 215w\" width=\"414\"/>\n            <span class=\"herald-format-icon\">\n             <i class=\"fa fa-play\">\n             </i>\n            </span>\n           </a>\n          </div>\n          <div class=\"entry-header\">\n           <span class=\"meta-category meta-small\">\n            <a class=\"herald-cat-70\" href=\"https://www.sonoticias.com.br/vimeo-videos/videos/\">\n             Vídeos\n            </a>\n           </span>\n           <h2 class=\"entry-title h5\">\n            <a href=\"https://www.sonoticias.com.br/vimeo-video/secretaria-de-educac%cc%a7a%cc%83o-e-favoravel-retomar-aulas-em-sinop/\">\n             Secretária de Educação é favorável retomar aulas em Sinop\n            </a>\n           </h2>\n          </div>\n         </article>\n        </div>\n       </div>\n       <div class=\"herald-module col-lg-12 col-md-12 col-sm-12\" data-col=\"12\" id=\"herald-module-2-10\">\n        <div class=\"herald-mod-wrap\">\n         <div class=\"herald-mod-head\">\n          <div class=\"herald-mod-title\">\n           <h2 class=\"h6 herald-mod-h herald-color\">\n            Mais lidas\n           </h2>\n          </div>\n         </div>\n        </div>\n        <div class=\"row herald-posts row-eq-height\">\n         <article class=\"herald-lay-h post-720293 post type-post status-publish format-standard has-post-thumbnail hentry category-geral\">\n          <div class=\"entry-header\">\n           <span class=\"meta-category meta-small\">\n            <a class=\"herald-cat-57\" href=\"https://www.sonoticias.com.br/category/geral/\">\n             Geral\n            </a>\n           </span>\n           <h2 class=\"entry-title h6\">\n            <a href=\"https://www.sonoticias.com.br/geral/exercito-e-ibama-descobrem-area-de-desmatamento-ilegal-no-nortao-apreendem-tratores-e-madeira/\">\n             Exército e IBAMA descobrem área de desmatamento ilegal no Nortão, apreendem tratores e madeira\n            </a>\n           </h2>\n          </div>\n         </article>\n         <article class=\"herald-lay-h post-720134 post type-post status-publish format-standard has-post-thumbnail hentry category-geral\">\n          <div class=\"entry-header\">\n           <span class=\"meta-category meta-small\">\n            <a class=\"herald-cat-57\" href=\"https://www.sonoticias.com.br/category/geral/\">\n             Geral\n            </a>\n           </span>\n           <h2 class=\"entry-title h6\">\n            <a href=\"https://www.sonoticias.com.br/geral/exercito-apreende-em-mato-grosso-cargas-de-madeira-ilegal-avaliadas-em-r-105-milhoes/\">\n             Exército apreende em Mato Grosso cargas ilegais de madeira avaliadas em R$ 10,5 milhões\n            </a>\n           </h2>\n          </div>\n         </article>\n         <article class=\"herald-lay-h post-719997 post type-post status-publish format-standard has-post-thumbnail hentry category-saude\">\n          <div class=\"entry-header\">\n           <span class=\"meta-category meta-small\">\n            <a class=\"herald-cat-54\" href=\"https://www.sonoticias.com.br/category/saude/\">\n             Saúde\n            </a>\n           </span>\n           <h2 class=\"entry-title h6\">\n            <a href=\"https://www.sonoticias.com.br/saude/morre-mulher-que-estava-na-uti-em-mato-grosso-com-coronavirus-33a-vitima/\">\n             Morre mulher que estava na UTI em Mato Grosso com Coronavírus; 33ª vítima\n            </a>\n           </h2>\n          </div>\n         </article>\n         <article class=\"herald-lay-h post-720500 post type-post status-publish format-standard has-post-thumbnail hentry category-geral\">\n          <div class=\"entry-header\">\n           <span class=\"meta-category meta-small\">\n            <a class=\"herald-cat-57\" href=\"https://www.sonoticias.com.br/category/geral/\">\n             Geral\n            </a>\n           </span>\n           <h2 class=\"entry-title h6\">\n            <a href=\"https://www.sonoticias.com.br/geral/engavetamento-envolve-caminhao-e-dois-veiculos-na-br-163-em-sinop/\">\n             Engavetamento envolve caminhão e dois veículos na BR-163 em Sinop\n            </a>\n           </h2>\n          </div>\n         </article>\n         <article class=\"herald-lay-h post-720231 post type-post status-publish format-standard has-post-thumbnail hentry category-saude\">\n          <div class=\"entry-header\">\n           <span class=\"meta-category meta-small\">\n            <a class=\"herald-cat-54\" href=\"https://www.sonoticias.com.br/category/saude/\">\n             Saúde\n            </a>\n           </span>\n           <h2 class=\"entry-title h6\">\n            <a href=\"https://www.sonoticias.com.br/saude/mais-dois-mato-grossenses-morrem-de-coronavirus-estado-tem-36-vitimas/\">\n             Mais 3 mato-grossenses morrem de Coronavírus; Estado tem 37 vítimas\n            </a>\n           </h2>\n          </div>\n         </article>\n         <article class=\"herald-lay-h post-720150 post type-post status-publish format-standard has-post-thumbnail hentry category-saude\">\n          <div class=\"entry-header\">\n           <span class=\"meta-category meta-small\">\n            <a class=\"herald-cat-54\" href=\"https://www.sonoticias.com.br/category/saude/\">\n             Saúde\n            </a>\n           </span>\n           <h2 class=\"entry-title h6\">\n            <a href=\"https://www.sonoticias.com.br/saude/mato-grosso-tem-34-mortos-por-coronavirus-%e2%80%a2-52-pessoas-na-uti-%e2%80%a2-428-curados/\">\n             Mato Grosso tem 34 mortos por Coronavírus • 52 pessoas na UTI • 428 curados\n            </a>\n           </h2>\n          </div>\n         </article>\n         <article class=\"herald-lay-h post-720078 post type-post status-publish format-standard has-post-thumbnail hentry category-policia\">\n          <div class=\"entry-header\">\n           <span class=\"meta-category meta-small\">\n            <a class=\"herald-cat-49\" href=\"https://www.sonoticias.com.br/category/policia/\">\n             Polícia\n            </a>\n           </span>\n           <h2 class=\"entry-title h6\">\n            <a href=\"https://www.sonoticias.com.br/policia/policias-de-mato-grosso-participam-de-operacao-que-interceptou-aviao-no-amazonas-com-418-quilos-de-cocaina-4-pesos/\">\n             Policiais de MT reforçam operação que interceptou avião no Amazonas com 418 kg de cocaína; 4 presos\n            </a>\n           </h2>\n          </div>\n         </article>\n         <article class=\"herald-lay-h post-720482 post type-post status-publish format-standard has-post-thumbnail hentry category-saude\">\n          <div class=\"entry-header\">\n           <span class=\"meta-category meta-small\">\n            <a class=\"herald-cat-54\" href=\"https://www.sonoticias.com.br/category/saude/\">\n             Saúde\n            </a>\n           </span>\n           <h2 class=\"entry-title h6\">\n            <a href=\"https://www.sonoticias.com.br/saude/mato-grosso-registra-mais-84-novos-casos-de-coronavirus-e-37-obitos/\">\n             Mato Grosso registra mais 84 novos casos de Coronavírus e 37 mortes\n            </a>\n           </h2>\n          </div>\n         </article>\n         <article class=\"herald-lay-h post-720609 post type-post status-publish format-standard has-post-thumbnail hentry category-policia\">\n          <div class=\"entry-header\">\n           <span class=\"meta-category meta-small\">\n            <a class=\"herald-cat-49\" href=\"https://www.sonoticias.com.br/category/policia/\">\n             Polícia\n            </a>\n           </span>\n           <h2 class=\"entry-title h6\">\n            <a href=\"https://www.sonoticias.com.br/policia/policia-federal-prende-empresario-transportando-armas-em-aviao-no-aeroporto-de-sinop/\">\n             Polícia Federal prende empresário transportando armas em avião no aeroporto de Sinop\n            </a>\n           </h2>\n          </div>\n         </article>\n        </div>\n        <nav class=\"herald-pagination herald-load-more\">\n         <a href=\"https://www.sonoticias.com.br/page/2/\">\n          Mais\n         </a>\n         <div class=\"herald-loader\">\n          <div class=\"spinner\">\n           <div class=\"bounce1\">\n           </div>\n           <div class=\"bounce2\">\n           </div>\n           <div class=\"bounce3\">\n           </div>\n          </div>\n         </div>\n        </nav>\n       </div>\n      </div>\n     </div>\n    </div>\n   </div>\n  </div>\n  <footer class=\"herald-site-footer herald-slide\" id=\"footer\">\n   <div class=\"footer-widgets container\">\n    <div class=\"row\">\n     <div class=\"col-lg-4 col-md-4 col-sm-4\">\n      <div class=\"widget_text widget widget_custom_html\" id=\"custom_html-3\">\n       <div class=\"textwidget custom-html-widget\">\n        <p>\n         <img alt=\"Só Notícias Logo\" src=\"https://www.sonoticias.com.br/wp-content/uploads/2017/12/sonoticias_logo.png\"/>\n        </p>\n        <p>\n         Só Notícias é o primeiro jornal virtual do interior de Mato Grosso, há 20 anos no ar com as melhores informações.\n        </p>\n        <p style=\"margin-top:25px\">\n         <a class=\"mks_button mks_button_small squared\" href=\"https://www.sonoticias.com.br/fale-conosco/\" style=\"color: #FFFFFF; background-color: #0288D1\" target=\"_blank\">\n          Saiba Mais\n         </a>\n        </p>\n       </div>\n      </div>\n     </div>\n     <div class=\"col-lg-4 col-md-4 col-sm-4\">\n      <div class=\"widget_text widget widget_custom_html\" id=\"custom_html-4\">\n       <h4 class=\"widget-title h6\">\n        <span>\n         Expediente\n        </span>\n       </h4>\n       <div class=\"textwidget custom-html-widget\">\n        <ul>\n         <li>\n          <a href=\"https://www.sonoticias.com.br/fale-conosco\">\n           Fale Conosco\n          </a>\n         </li>\n         <li>\n          <a href=\"https://www.sonoticias.com.br/equipe\">\n           Nossa equipe\n          </a>\n         </li>\n         <li>\n          <a href=\"https://www.sonoticias.com.br/anuncie\">\n           Anuncie\n          </a>\n         </li>\n        </ul>\n       </div>\n      </div>\n     </div>\n     <div class=\"col-lg-4 col-md-4 col-sm-4\">\n      <div class=\"widget widget_search\" id=\"search-4\">\n       <h4 class=\"widget-title h6\">\n        <span>\n         Pesquise no site:\n        </span>\n       </h4>\n       <form action=\"https://www.sonoticias.com.br/\" class=\"herald-search-form\" method=\"get\">\n        <input class=\"herald-search-input\" name=\"s\" placeholder=\"Digite aqui para pesquisar...\" type=\"text\" value=\"\"/>\n        <button class=\"herald-search-submit\" type=\"submit\">\n        </button>\n       </form>\n      </div>\n     </div>\n    </div>\n   </div>\n   <div class=\"footer-bottom\">\n    <div class=\"container\">\n     <div class=\"row\">\n      <div class=\"col-lg-12\">\n       <div class=\"hel-l herald-go-hor\">\n        <div class=\"herald-copyright\">\n         Copyright © 2000-2018. Reprodução proibida sem a autorização de Só Notícias.\n        </div>\n       </div>\n       <div class=\"hel-r herald-go-hor\">\n        <ul class=\"herald-soc-nav\" id=\"menu-herald-social-1\">\n         <li class=\"menu-item menu-item-type-custom menu-item-object-custom menu-item-19\">\n          <a href=\"https://www.facebook.com/SoNoticiasMT/\">\n           <span class=\"herald-social-name\">\n            Facebook\n           </span>\n          </a>\n         </li>\n         <li class=\"menu-item menu-item-type-custom menu-item-object-custom menu-item-20\">\n          <a href=\"https://twitter.com/SonoticiasMT\">\n           <span class=\"herald-social-name\">\n            Twitter\n           </span>\n          </a>\n         </li>\n         <li class=\"menu-item menu-item-type-custom menu-item-object-custom menu-item-22\">\n          <a href=\"https://instagram.com/\">\n           <span class=\"herald-social-name\">\n            Instagram\n           </span>\n          </a>\n         </li>\n        </ul>\n       </div>\n      </div>\n     </div>\n    </div>\n   </div>\n  </footer>\n  <a class=\"herald-goto-top\" href=\"javascript:void(0)\" id=\"back-top\">\n   <i class=\"fa fa-angle-up\">\n   </i>\n  </a>\n  <script>\n   function loadScript(a){var b=document.getElementsByTagName(\"head\")[0],c=document.createElement(\"script\");c.type=\"text/javascript\",c.src=\"https://tracker.metricool.com/app/resources/be.js\",c.onreadystatechange=a,c.onload=a,b.appendChild(c)}loadScript(function(){beTracker.t({hash:'643aab579e9ab8680528be11e9e27f15'})})\n  </script>\n  <link href=\"https://www.sonoticias.com.br/wp-content/plugins/ml-slider/assets/sliders/flexslider/flexslider.css?ver=3.16.4\" id=\"metaslider-flex-slider-css\" media=\"all\" property=\"stylesheet\" rel=\"stylesheet\" type=\"text/css\"/>\n  <link href=\"https://www.sonoticias.com.br/wp-content/plugins/ml-slider/assets/metaslider/public.css?ver=3.16.4\" id=\"metaslider-public-css\" media=\"all\" property=\"stylesheet\" rel=\"stylesheet\" type=\"text/css\"/>\n  <style id=\"metaslider-public-inline-css\" type=\"text/css\">\n   .metaslider.metaslider-652661 .flexslider .flex-control-paging li a,\n\t.metaslider.metaslider-652661 .flexslider .flex-control-paging li a:hover {\n\t\tpadding: 0;\n\t\tbox-shadow: none;\n\t\ttext-indent: -9999px;\n\t\tborder-style: solid;\n\t\tdisplay: inline-block;\n\t\tborder-color: rgba(0,0,0,1);\n\t\tborder-radius: 10px;\n\t\t-webkit-border-radius: 10px;\n\t\t-moz-border-radius: 10px;\n\t\tborder-width: 0px;\n\t\tborder: 0px solid rgba(0,0,0,1);\n\t\tline-height: 10px;\n\t\twidth: 10px;\n\t\theight: 10px;\n\t\tmargin: 0 4px;\n\t\tbackground: rgb(0,0,0);\n\t\tbackground: rgba(0,0,0,0.5);\n\t\tbackground: -webkit-gradient(linear, 0% 0%, 0% 100%, from(rgba(0,0,0,0.5)), to(rgba(0,0,0,0.5)));\n\t\tbackground: -webkit-linear-gradient(top, rgba(0,0,0,0.5), rgba(0,0,0,0.5));\n\t\tbackground: -moz-linear-gradient(top, rgba(0,0,0,0.5), rgba(0,0,0,0.5));\n\t\tbackground: -ms-linear-gradient(top, rgba(0,0,0,0.5), rgba(0,0,0,0.5));\n\t\tbackground: -o-linear-gradient(top, rgba(0,0,0,0.5), rgba(0,0,0,0.5));\n\t\tbackground: linear-gradient(top, rgba(0,0,0,0.5), rgba(0,0,0,0.5));\n\t}\n\n\t.metaslider.metaslider-652661 .flexslider .flex-control-paging li {\n\t\tmargin: 0;\n\t\ttext-indent: 0;\n\t\twidth: auto;\n\t}\n\n\t.metaslider.metaslider-652661 .flexslider .flex-control-paging li a.flex-active {\n\t\tborder: 0px solid rgba(0,0,0,1);\n\t\tbackground: rgb(0,0,0);\n\t\tbackground: rgba(0,0,0,1);\n\t\tbackground: -webkit-gradient(linear, 0% 0%, 0% 100%, from(rgba(0,0,0,1)), to(rgba(0,0,0,1)));\n\t\tbackground: -webkit-linear-gradient(top, rgba(0,0,0,1), rgba(0,0,0,1));\n\t\tbackground: -moz-linear-gradient(top, rgba(0,0,0,1), rgba(0,0,0,1));\n\t\tbackground: -ms-linear-gradient(top, rgba(0,0,0,1), rgba(0,0,0,1));\n\t\tbackground: -o-linear-gradient(top, rgba(0,0,0,1), rgba(0,0,0,1));\n\t\tbackground: linear-gradient(top, rgba(0,0,0,1), rgba(0,0,0,1));\n\t}\n\n\t.metaslider.metaslider-652661 .flexslider .flex-control-paging {\n\t\tline-height: 10px;\n\t\tz-index: 99;\n\t\tpadding: 0;\n\t\ttext-align: left;\n\t\tmargin: 6px 0px;\n\t\twidth: 100%;\n\t\ttop: auto;\n\t\tright: auto;\n\t\tbottom: auto;\n\t\tleft: auto;\n\t\tposition: absolute;\n\t\ttext-align: center;\n\t}\n \n\t.metaslider.metaslider-652661 .flexslider .caption-wrap {\n\t\topacity: 1;\n\t\tmargin: 0px 0px;\n\t\tcolor: rgb(255, 255, 255);\n\t\tbackground: rgb(0,0,0);\n\t\tbackground: rgba(0,0,0,0.7);\n\t\twidth: 100%;\n\t\ttop: auto;\n\t\tright: auto;\n\t\tbottom: 0;\n\t\tleft: 0;\n\t\tclear: none;\n\t\tposition: absolute;\n\t\tborder-radius: 0px;\n\t\t-webkit-border-radius: 0px;\n\t\t-moz-border-radius: 0px;\n\t}\n \n\t.metaslider.metaslider-652661 .flexslider .flex-direction-nav .flex-prev {\n\t\tbackground: transparent url(https://www.sonoticias.com.br/wp-content/plugins/ml-slider-pro/modules/theme_editor/assets/arrows/white.png) 0 -498px no-repeat;\n\t\tmargin-top: -17px;\n\t\twidth: 34px;\n\t\theight: 34px;\n\t\topacity: 0;\n\t\tleft: 0px;\n\t\tpadding: 0;\n\t}\n\n\t.metaslider.metaslider-652661 .flexslider .flex-direction-nav .flex-next {\n\t\tbackground: transparent url(https://www.sonoticias.com.br/wp-content/plugins/ml-slider-pro/modules/theme_editor/assets/arrows/white.png) 100% -498px no-repeat;\n\t\tmargin-top: -17px;\n\t\twidth: 34px;\n\t\theight: 34px;\n\t\topacity: 0;\n\t\tright: 0px;\n\t\tpadding: 0;\n\t}\n\n\t.metaslider.metaslider-652661 .flexslider:hover .flex-direction-nav .flex-prev {\n\t\tleft: 5px;\n\t\topacity: 0.7;\n\t}\n\n\t.metaslider.metaslider-652661 .flexslider:hover .flex-direction-nav .flex-next {\n\t\tright: 5px;\n\t\topacity: 0.7;\n\t}\n\n\t.metaslider.metaslider-652661 {\n\t\tmargin-bottom: 22px;\n\t}\n  </style>\n  <link href=\"https://www.sonoticias.com.br/wp-content/plugins/ml-slider-pro/assets/public.css?ver=2.16.0\" id=\"metaslider-pro-public-css\" media=\"all\" property=\"stylesheet\" rel=\"stylesheet\" type=\"text/css\"/>\n  <script type=\"text/javascript\">\n   /* <![CDATA[ */\nvar wpcf7 = {\"apiSettings\":{\"root\":\"https:\\/\\/www.sonoticias.com.br\\/wp-json\\/contact-form-7\\/v1\",\"namespace\":\"contact-form-7\\/v1\"}};\n/* ]]> */\n  </script>\n  <script src=\"https://www.sonoticias.com.br/wp-content/plugins/contact-form-7/includes/js/scripts.js?ver=5.1.7\" type=\"text/javascript\">\n  </script>\n  <script src=\"https://www.sonoticias.com.br/wp-includes/js/comment-reply.min.js?ver=4.9.14\" type=\"text/javascript\">\n  </script>\n  <script type=\"text/javascript\">\n   /* <![CDATA[ */\nvar herald_js_settings = {\"ajax_url\":\"https:\\/\\/www.sonoticias.com.br\\/wp-admin\\/admin-ajax.php\",\"rtl_mode\":\"false\",\"header_sticky\":\"1\",\"header_sticky_offset\":\"600\",\"header_sticky_up\":\"\",\"single_sticky_bar\":\"\",\"popup_img\":\"1\",\"logo\":\"https:\\/\\/www.sonoticias.com.br\\/wp-content\\/uploads\\/2018\\/06\\/logo_sonoticias_branco.png\",\"logo_retina\":\"https:\\/\\/www.sonoticias.com.br\\/wp-content\\/uploads\\/2018\\/06\\/logo_sonoticias_branco@2x.png\",\"logo_mini\":\"https:\\/\\/www.sonoticias.com.br\\/wp-content\\/uploads\\/2018\\/06\\/logo_sonoticias_branco_peq.png\",\"logo_mini_retina\":\"https:\\/\\/www.sonoticias.com.br\\/wp-content\\/uploads\\/2018\\/06\\/logo_sonoticias_branco_peq@2x.png\",\"smooth_scroll\":\"\",\"trending_columns\":\"6\",\"responsive_menu_more_link\":\"\",\"header_ad_responsive\":\"\",\"header_responsive_breakpoint\":\"1249\"};\n/* ]]> */\n  </script>\n  <script src=\"https://www.sonoticias.com.br/wp-content/themes/herald/assets/js/min.js?ver=2.0\" type=\"text/javascript\">\n  </script>\n  <script src=\"https://www.sonoticias.com.br/wp-includes/js/wp-embed.min.js?ver=4.9.14\" type=\"text/javascript\">\n  </script>\n  <script src=\"https://www.sonoticias.com.br/wp-content/plugins/ml-slider/assets/sliders/flexslider/jquery.flexslider.min.js?ver=3.16.4\" type=\"text/javascript\">\n  </script>\n  <script type=\"text/javascript\">\n   var metaslider_652661 = function($) {\n            $('#metaslider_652661').flexslider({ \n                slideshowSpeed:3500,\n                animation:\"fade\",\n                controlNav:false,\n                directionNav:true,\n                pauseOnHover:true,\n                direction:\"horizontal\",\n                reverse:false,\n                animationSpeed:600,\n                prevText:\"Anterior\",\n                nextText:\"Próximo\",\n                fadeFirstSlide:false,\n                slideshow:true\n            });\n            $(document).trigger('metaslider/initialized', '#metaslider_652661');\n        };\n        var timer_metaslider_652661 = function() {\n            var slider = !window.jQuery ? window.setTimeout(timer_metaslider_652661, 100) : !jQuery.isReady ? window.setTimeout(timer_metaslider_652661, 1) : metaslider_652661(window.jQuery);\n        };\n        timer_metaslider_652661();\n  </script>\n  <script type=\"text/javascript\">\n   /* <![CDATA[ */\nvar milapfbwidgetvars = {\"app_id\":\"125209568194468\",\"select_lng\":\"pt_BR\"};\n/* ]]> */\n  </script>\n  <script src=\"https://www.sonoticias.com.br/wp-content/plugins/facebook-pagelike-widget/fb.js?ver=1.0\" type=\"text/javascript\">\n  </script>\n </body>\n</html>\n"
    }
   ],
   "source": [
    "page_url = \"https://www.sonoticias.com.br/\" # página que estaremos fazendo o Web Scraping\n",
    "\n",
    "# Cabeçalho do dosso request (pedido)\n",
    "headers = {\n",
    "    \"Host\": \"www.sonoticias.com.br\",\n",
    "    \"User-Agent\": \"Mozilla/5.0 (X11; Linux x86_64; rv:76.0) Gecko/20100101 Firefox/76.0\",\n",
    "    \"Accept\": \"text/html,application/xhtml+xml,application/xml;q=0.9,image/webp,*/*;q=0.8\",\n",
    "}\n",
    "\n",
    "#request = urllib.request.Request(page_url, headers=headers) # faz o request \n",
    "#response = urllib.request.urlopen(request) # obtem a response (resposta)\n",
    "#page_soup = soup(response.read(), \"html.parser\") # transforma a sopa de dados em uma estrutura JSON\n",
    "\n",
    "request = requests.get(page_url) # faz o request \n",
    "response = request.text\n",
    "page_soup = soup(response, \"html.parser\") # transforma a sopa de dados em uma estrutura JSON\n",
    "print(page_soup.prettify()) # printa o arquivo HTML de forma legível"
   ]
  },
  {
   "cell_type": "code",
   "execution_count": 12,
   "metadata": {},
   "outputs": [
    {
     "output_type": "execute_result",
     "data": {
      "text/plain": "{'User-Agent': 'python-requests/2.23.0', 'Accept-Encoding': 'gzip, deflate', 'Accept': '*/*', 'Connection': 'keep-alive'}"
     },
     "metadata": {},
     "execution_count": 12
    }
   ],
   "source": [
    "request.request.headers"
   ]
  },
  {
   "cell_type": "code",
   "execution_count": 3,
   "metadata": {
    "tags": [
     "outputPrepend"
    ]
   },
   "outputs": [],
   "source": [
    "secoes = page_soup.find_all(\"div\", {\"class\": \"herald-module\"}) # Pega\n",
    "noticias = {}\n",
    "for i, secao in enumerate(secoes):\n",
    "    h2 = secao.find('h2', {\"class\": \"h6 herald-mod-h herald-color\"})\n",
    "    if h2:\n",
    "        noticias[h2.text] = secao.find_all('article')"
   ]
  },
  {
   "cell_type": "code",
   "execution_count": 4,
   "metadata": {},
   "outputs": [
    {
     "output_type": "stream",
     "name": "stdout",
     "text": "\n Polícia \n\nPreso suspeito que buscou drogas em Sinop para vender no Nortão -> https://www.sonoticias.com.br/category/policia/\nPolícia prende homem acusado de tentar matar adolescente em Mato Grosso -> https://www.sonoticias.com.br/category/policia/\nHomem acusado de apontar arma para policiais é baleado e morre em Sorriso -> https://www.sonoticias.com.br/category/policia/\nPolícia faz operação, prende oito e recupera produtos furtados em Mato Grosso -> https://www.sonoticias.com.br/category/policia/\nMoto furtada é localizada pela Polícia Militar em Sinop -> https://www.sonoticias.com.br/category/policia/\nMulher é derrubada de motocicleta ao ser assaltada em Sinop -> https://www.sonoticias.com.br/category/policia/\n\n Esportes \n\nPresidente do Mixto anuncia renúncia do cargo “não dá mais”  -> https://www.sonoticias.com.br/esportes/presidente-mixto-anuncia-renuncia-do-cargo-nao-da-mais/\nBebida alcoólica é liberada nos estádios de Mato Grosso -> https://www.sonoticias.com.br/esportes/bebida-alcoolica-e-liberada-nos-estadios-de-mato-grosso/\nSinop: nova série de vídeos da prefeitura ensinam técnicas de modalidades esportivas -> https://www.sonoticias.com.br/esportes/sinop-nova-serie-de-videos-da-prefeitura-ensinam-tecnicas-de-modalidades-esportivas/\n\n Política \n\nNova Mutum: presidente da câmara quer testagem em todos pacientes que procuram atendimento para identificar Covid-19 -> https://www.sonoticias.com.br/politica/nova-mutum-presidente-da-camara-defende-exame-de-testagem-em-todos-pacientes-que-procuram-atendimento-para-identificar-covid-19/\nNortão: ex-prefeito que doou calcário para irmão é condenado e tem direitos políticos suspensos -> https://www.sonoticias.com.br/politica/nortao-ex-prefeito-que-doou-calcario-para-irmao-e-condenado-e-tem-direitos-politicos-suspensos/\nMauro avalia que ajuste fiscal iniciado ano passado permitiu a MT enfrentar a pandemia “com mais serenidade” -> https://www.sonoticias.com.br/politica/mauro-avalia-que-ajuste-fiscal-iniciado-ano-permitiu-a-mt-enfrentar-a-pandemia-com-mais-serenidade/\n\n Geral \n\nMotociclista morre na BR-163 entre Sinop e Sorriso -> https://www.sonoticias.com.br/category/geral/\nNova Mutum registra mais dois casos positivos de Coronavírus e Lucas um -> https://www.sonoticias.com.br/category/saude/\nJustiça Federal determina que Funai fiscalize e controle acesso em parte de terras indígenas em Mato Grosso -> https://www.sonoticias.com.br/category/geral/\nMinistério da Educação prorroga prazo de inscrição do Enem -> https://www.sonoticias.com.br/category/educacao/\nSecretaria investiga 57 casos suspeitos de Cornavírus em Peixoto de Azevedo -> https://www.sonoticias.com.br/category/saude/\nConcurso público em Lucas do Rio Verde é suspenso temporariamente devido ao Coronavírus -> https://www.sonoticias.com.br/category/geral/\nPolícia Federal ajuda famílias carentes em Sinop através de campanha solidária com doação de alimentos -> https://www.sonoticias.com.br/category/geral/\nGrupo de voluntários de Guarantã do Norte já arrecadou mais de 260 cestas e 4,5 mil máscaras -> https://www.sonoticias.com.br/category/geral/\nSorriso: carro sai da pista, cai em galeria e motorista alega que foi fechado -> https://www.sonoticias.com.br/category/geral/\n\n Últimas Notícias \n\nMotociclista morre na BR-163 entre Sinop e Sorriso -> https://www.sonoticias.com.br/category/geral/\nPreso suspeito que buscou drogas em Sinop para vender no Nortão -> https://www.sonoticias.com.br/category/policia/\nNova Mutum registra mais dois casos positivos de Coronavírus e Lucas um -> https://www.sonoticias.com.br/category/saude/\nPrefeita de Sinop anuncia multa para comerciantes que não respeitarem medidas de enfrentamento ao Coronavírus -> https://www.sonoticias.com.br/category/politica/\nVídeo: Sema entrega veículos para Batalhão Ambiental e Delegacia do Meio Ambiente doados pela UHE Sinop -> https://www.sonoticias.com.br/category/geral/\nPolícia prende homem acusado de tentar matar adolescente em Mato Grosso -> https://www.sonoticias.com.br/category/policia/\nHomem acusado de apontar arma para policiais é baleado e morre em Sorriso -> https://www.sonoticias.com.br/category/policia/\nPolícia Federal prende empresário transportando armas em avião no aeroporto de Sinop -> https://www.sonoticias.com.br/category/policia/\nJustiça Federal determina que Funai fiscalize e controle acesso em parte de terras indígenas em Mato Grosso -> https://www.sonoticias.com.br/category/geral/\nPolícia faz operação, prende oito e recupera produtos furtados em Mato Grosso -> https://www.sonoticias.com.br/category/policia/\nGovernador nomeia 30 novos delegados para Polícia Civil em Mato Grosso -> https://www.sonoticias.com.br/category/politica/\nMinistério da Educação prorroga prazo de inscrição do Enem -> https://www.sonoticias.com.br/category/educacao/\nMoto furtada é localizada pela Polícia Militar em Sinop -> https://www.sonoticias.com.br/category/policia/\nLucas: prefeito manda criar barreiras sanitárias e que restaurantes ‘isolem’ buffets em ações contra Covid-19 -> https://www.sonoticias.com.br/category/politica/\nSecretaria investiga 57 casos suspeitos de Cornavírus em Peixoto de Azevedo -> https://www.sonoticias.com.br/category/saude/\nMulher é derrubada de motocicleta ao ser assaltada em Sinop -> https://www.sonoticias.com.br/category/policia/\nConcurso público em Lucas do Rio Verde é suspenso temporariamente devido ao Coronavírus -> https://www.sonoticias.com.br/category/geral/\nMorador de Sinop descobre empréstimo ilegal de R$ 6 mil em seu nome -> https://www.sonoticias.com.br/category/policia/\nPolícia Federal ajuda famílias carentes em Sinop através de campanha solidária com doação de alimentos -> https://www.sonoticias.com.br/category/geral/\nGrupo de voluntários de Guarantã do Norte já arrecadou mais de 260 cestas e 4,5 mil máscaras -> https://www.sonoticias.com.br/category/geral/\n\n SocialNews \n\nPedaço do teto de quarto de Tatá Werneck cai: ‘que bacana, tô adorando.” -> https://www.sonoticias.com.br/socialnews/pedaco-do-teto-de-quarto-de-tata-werneck-cai-que-bacana-to-adorando/\nCarolina Dieckmann posta fotos raras com sua família -> https://www.sonoticias.com.br/socialnews/carolina-dieckmann-posta-fotos-raras-com-sua-familia/\nRodrigo Faro posta foto ‘imitando’ Silvio Santos e se diverte -> https://www.sonoticias.com.br/socialnews/rodrigo-faro-posta-foto-imitando-silvio-santos-e-se-diverte/\n\n Celebridades \n\nSandra Annenberg posta foto ao lado de filha e semelhança chama atenção dos fãs -> https://www.sonoticias.com.br/socialnews/sandra-annenberg-posta-foto-ao-lado-de-filha-e-semelhanca-chama-atencao-dos-fas/\nBiah Rodrigues, mulher de Sorocaba, relata parto de 11 horas -> https://www.sonoticias.com.br/socialnews/biah-rodrigues-mulher-de-sorocaba-relata-parto-de-11-horas/\nEm dia do abraço, Paolla Oliveira posta abraçando árvore -> https://www.sonoticias.com.br/socialnews/em-dia-do-abraco-paolla-oliveira-posta-abracando-arvore/\n\n Ponto Final \n\nDesafio a Emanuel -> https://www.sonoticias.com.br/category/ponto-final/\nConfusão -> https://www.sonoticias.com.br/category/ponto-final/\nPedido a Bolsonaro -> https://www.sonoticias.com.br/category/ponto-final/\nPerto da normalidade -> https://www.sonoticias.com.br/category/ponto-final/\nProrrogação de mandatos -> https://www.sonoticias.com.br/category/ponto-final/\nDois efeitos -> https://www.sonoticias.com.br/category/ponto-final/\n\n Opinião do Leitor \n\nÉ o momento de repensar tudo -> https://www.sonoticias.com.br/category/opiniao/\nA escolha, o conflito e o erro -> https://www.sonoticias.com.br/category/opiniao/\nA cauda longe do Coronavírus -> https://www.sonoticias.com.br/category/opiniao/\n\n Vídeos \n\nMauro entrega 149 viaturas para Segurança Pública em Mato Grosso -> https://www.sonoticias.com.br/vimeo-video/mauro-mendes-entrega-149-viaturas-para-as-forc%cc%a7as-de-seguranc%cc%a7a-publica-em-mato-grosso/\nGoverno inaugura Hospital Metropolitano com 238 leitos clínicos e 40 de UTI -> https://www.sonoticias.com.br/vimeo-video/governo-de-mato-grosso-inaugura-hospital-metropolitano-com-238-leitos-clinicos-e-40-de-uti/\nUnemat planeja retomada das aulas e oferta auxílios aos acadêmicos -> https://www.sonoticias.com.br/vimeo-video/unemat-planeja-retomada-das-aulas-e-oferta-auxilios-aos-academicos/\nGoverno de Mato Grosso define ações de combate ao desmatamento ilegal -> https://www.sonoticias.com.br/vimeo-video/governo-de-mato-grosso-define-ac%cc%a7o%cc%83es-de-combate-ao-desmatamento-ilegal/\nSinop Energia -> https://www.sonoticias.com.br/vimeo-video/sinop-energia-3/\nSecretária de Educação é favorável retomar aulas em Sinop -> https://www.sonoticias.com.br/vimeo-video/secretaria-de-educac%cc%a7a%cc%83o-e-favoravel-retomar-aulas-em-sinop/\n\n Mais lidas \n\nExército e IBAMA descobrem área de desmatamento ilegal no Nortão, apreendem tratores e madeira -> https://www.sonoticias.com.br/category/geral/\nExército apreende em Mato Grosso cargas ilegais de madeira avaliadas em R$ 10,5 milhões -> https://www.sonoticias.com.br/category/geral/\nMorre mulher que estava na UTI em Mato Grosso com Coronavírus; 33ª vítima -> https://www.sonoticias.com.br/category/saude/\nEngavetamento envolve caminhão e dois veículos na BR-163 em Sinop -> https://www.sonoticias.com.br/category/geral/\nMais 3 mato-grossenses morrem de Coronavírus; Estado tem 37 vítimas -> https://www.sonoticias.com.br/category/saude/\nMato Grosso tem 34 mortos por Coronavírus • 52 pessoas na UTI • 428 curados -> https://www.sonoticias.com.br/category/saude/\nPoliciais de MT reforçam operação que interceptou avião no Amazonas com 418 kg de cocaína; 4 presos -> https://www.sonoticias.com.br/category/policia/\nMato Grosso registra mais 84 novos casos de Coronavírus e 37 mortes -> https://www.sonoticias.com.br/category/saude/\nPolícia Federal prende empresário transportando armas em avião no aeroporto de Sinop -> https://www.sonoticias.com.br/category/policia/\n"
    }
   ],
   "source": [
    "# Mostrar todas as notícias e os links delas\n",
    "for key in noticias.keys():\n",
    "    print(\"\\n\", key, \"\\n\")\n",
    "    for noticia in noticias[key]:\n",
    "        print(f\"{noticia.h2.text} -> {noticia.a['href']}\")\n",
    "    "
   ]
  },
  {
   "cell_type": "code",
   "execution_count": 5,
   "metadata": {},
   "outputs": [],
   "source": [
    "def ver_secoes(noticias, return_last = False):\n",
    "    if return_last:\n",
    "        return return_last\n",
    "    for i, key in enumerate(noticias.keys()):\n",
    "        print(f\"{i}: {key}\")\n",
    "    print(f\"{i+1}: Sair\")\n",
    "    escolha = int(input(\"Escolha qual seção deseja ver: \"))\n",
    "    if escolha == i+1:\n",
    "        return False\n",
    "    secao = list(noticias.keys())[escolha]\n",
    "    return secao\n",
    "\n",
    "def ver_noticia(noticias, secao, Break = False):\n",
    "    for i, noticia in enumerate(noticias[secao]):\n",
    "        print(f\"{i}: {noticia.h2.text}\")\n",
    "    print(f\"{i+1}: Sair\")\n",
    "    escolha = int(input(\"Escolha qual notícia deseja ver: \"))\n",
    "    if escolha == i+1:\n",
    "        return True\n",
    "    noticia = noticias[secao][escolha].h2.a['href']\n",
    "    webbrowser.open_new_tab(noticia)\n",
    "    return False\n",
    "\n",
    "return_last = False\n",
    "while 1:\n",
    "    try:\n",
    "        secao = ver_secoes(noticias, return_last)\n",
    "        clear_output()\n",
    "        if not secao:\n",
    "            break\n",
    "        sair = ver_noticia(noticias, secao)\n",
    "        clear_output()\n",
    "        if sair:\n",
    "            break\n",
    "        print(\"0: Ler outra notícia\")\n",
    "        print(\"1: Voltar para secoes\")\n",
    "        print(\"2: Sair\")\n",
    "        escolha = int(input(\"Escolha uma ação: \"))\n",
    "        clear_output()\n",
    "        \n",
    "        if escolha == 0:\n",
    "            return_last = secao\n",
    "            continue\n",
    "        elif escolha == 1:\n",
    "            return_last = False\n",
    "            continue\n",
    "        else:\n",
    "            break\n",
    "        clear_output()\n",
    "    except:\n",
    "        print(f\"Ocorreu um erro, tente novamente\")\n",
    "        break"
   ]
  },
  {
   "cell_type": "code",
   "execution_count": null,
   "metadata": {},
   "outputs": [],
   "source": []
  }
 ],
 "metadata": {
  "language_info": {
   "codemirror_mode": {
    "name": "ipython",
    "version": 3
   },
   "file_extension": ".py",
   "mimetype": "text/x-python",
   "name": "python",
   "nbconvert_exporter": "python",
   "pygments_lexer": "ipython3",
   "version": "3.8.3-final"
  },
  "orig_nbformat": 2,
  "kernelspec": {
   "name": "python38264bitcf2d55f42333456aa8ce885b62a54567",
   "display_name": "Python 3.8.2 64-bit"
  }
 },
 "nbformat": 4,
 "nbformat_minor": 2
}