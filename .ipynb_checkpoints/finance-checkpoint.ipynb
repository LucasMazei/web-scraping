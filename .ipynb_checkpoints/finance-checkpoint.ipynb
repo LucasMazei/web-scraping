{
 "cells": [
  {
   "cell_type": "code",
   "execution_count": 13,
   "metadata": {},
   "outputs": [],
   "source": [
    "import time\n",
    "from selenium import webdriver\n",
    "from selenium.webdriver.firefox.options import Options\n",
    "import pandas as pd\n",
    "from bs4 import BeautifulSoup\n",
    "import json\n",
    "from selenium.common.exceptions import NoSuchElementException\n",
    "from IPython.display import clear_output\n",
    "import requests"
   ]
  },
  {
   "cell_type": "code",
   "execution_count": 2,
   "metadata": {},
   "outputs": [],
   "source": [
    "url = \"http://127.0.0.1:5000/\"\n",
    "\n",
    "option = Options()\n",
    "option.headless = False\n",
    "driver = webdriver.Firefox(options=option)\n",
    "\n",
    "driver.get(url)"
   ]
  },
  {
   "cell_type": "code",
   "execution_count": 18,
   "metadata": {},
   "outputs": [
    {
     "output_type": "execute_result",
     "data": {
      "text/plain": "Index(['code', 'codein', 'name', 'high', 'low', 'varBid', 'pctChange', 'bid',\n       'ask', 'create_date', 'data'],\n      dtype='object')"
     },
     "metadata": {},
     "execution_count": 18
    }
   ],
   "source": [
    "#element = driver.find_element_by_tag_name(\"table\")\n",
    "#element = driver.find_element_by_class_name(\"table-dark\")\n",
    "element = driver.find_element_by_xpath(\"/html/body/div/div/div[2]/table\")\n",
    "soup = BeautifulSoup(element.get_attribute(\"outerHTML\"), \"html.parser\")\n",
    "cotacao = pd.read_html(str(soup), decimal=',', thousands='.')[0]\n",
    "cotacao"
   ]
  }
 ],
 "metadata": {
  "language_info": {
   "codemirror_mode": {
    "name": "ipython",
    "version": 3
   },
   "file_extension": ".py",
   "mimetype": "text/x-python",
   "name": "python",
   "nbconvert_exporter": "python",
   "pygments_lexer": "ipython3",
   "version": "3.8.3-final"
  },
  "orig_nbformat": 2,
  "kernelspec": {
   "name": "python38264bitcf2d55f42333456aa8ce885b62a54567",
   "display_name": "Python 3.8.2 64-bit"
  }
 },
 "nbformat": 4,
 "nbformat_minor": 2
}