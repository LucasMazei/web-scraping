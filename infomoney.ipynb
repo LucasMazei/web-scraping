{
 "cells": [
  {
   "cell_type": "code",
   "execution_count": 63,
   "metadata": {},
   "outputs": [],
   "source": [
    "import time\n",
    "from selenium import webdriver\n",
    "from selenium.webdriver.firefox.options import Options\n",
    "import pandas as pd\n",
    "from bs4 import BeautifulSoup\n",
    "import json\n",
    "from selenium.common.exceptions import NoSuchElementException\n",
    "from IPython.display import clear_output"
   ]
  },
  {
   "cell_type": "code",
   "execution_count": 64,
   "metadata": {},
   "outputs": [],
   "source": [
    "url = \"https://www.infomoney.com.br/ferramentas/cambio/\"\n",
    "\n",
    "option = Options()\n",
    "option.headless = True\n",
    "driver = webdriver.Firefox(options=option)\n",
    "\n",
    "driver.get(url)"
   ]
  },
  {
   "cell_type": "code",
   "execution_count": 65,
   "metadata": {},
   "outputs": [],
   "source": [
    "element = driver.find_element_by_xpath(\"/html/body/div[4]/div/div[1]/div[2]/div/div/table\")\n",
    "soup = BeautifulSoup(element.get_attribute(\"outerHTML\"), \"html.parser\")\n",
    "#print(soup.prettify())"
   ]
  },
  {
   "cell_type": "code",
   "execution_count": 66,
   "metadata": {},
   "outputs": [
    {
     "output_type": "execute_result",
     "data": {
      "text/plain": "               Moeda  Compra  Venda  Var(%)\n0     Peso Argentino   0.084  0.084   -2.31\n1  Dólar Australiano   3.732  3.733   -0.36\n2    Dólar Canadense   4.100  4.102   -0.96\n3       Franco Suíço   5.883  5.881   -2.05\n4    Dólar Comercial   5.716  5.717   -2.08\n5      Dólar Turismo   5.690  6.030   -1.95\n6               Euro   6.246  6.247   -1.09\n7    Libra Esterlina   6.969  6.970   -1.51\n8               Iene   0.053  0.053   -1.47",
      "text/html": "<div>\n<style scoped>\n    .dataframe tbody tr th:only-of-type {\n        vertical-align: middle;\n    }\n\n    .dataframe tbody tr th {\n        vertical-align: top;\n    }\n\n    .dataframe thead th {\n        text-align: right;\n    }\n</style>\n<table border=\"1\" class=\"dataframe\">\n  <thead>\n    <tr style=\"text-align: right;\">\n      <th></th>\n      <th>Moeda</th>\n      <th>Compra</th>\n      <th>Venda</th>\n      <th>Var(%)</th>\n    </tr>\n  </thead>\n  <tbody>\n    <tr>\n      <th>0</th>\n      <td>Peso Argentino</td>\n      <td>0.084</td>\n      <td>0.084</td>\n      <td>-2.31</td>\n    </tr>\n    <tr>\n      <th>1</th>\n      <td>Dólar Australiano</td>\n      <td>3.732</td>\n      <td>3.733</td>\n      <td>-0.36</td>\n    </tr>\n    <tr>\n      <th>2</th>\n      <td>Dólar Canadense</td>\n      <td>4.100</td>\n      <td>4.102</td>\n      <td>-0.96</td>\n    </tr>\n    <tr>\n      <th>3</th>\n      <td>Franco Suíço</td>\n      <td>5.883</td>\n      <td>5.881</td>\n      <td>-2.05</td>\n    </tr>\n    <tr>\n      <th>4</th>\n      <td>Dólar Comercial</td>\n      <td>5.716</td>\n      <td>5.717</td>\n      <td>-2.08</td>\n    </tr>\n    <tr>\n      <th>5</th>\n      <td>Dólar Turismo</td>\n      <td>5.690</td>\n      <td>6.030</td>\n      <td>-1.95</td>\n    </tr>\n    <tr>\n      <th>6</th>\n      <td>Euro</td>\n      <td>6.246</td>\n      <td>6.247</td>\n      <td>-1.09</td>\n    </tr>\n    <tr>\n      <th>7</th>\n      <td>Libra Esterlina</td>\n      <td>6.969</td>\n      <td>6.970</td>\n      <td>-1.51</td>\n    </tr>\n    <tr>\n      <th>8</th>\n      <td>Iene</td>\n      <td>0.053</td>\n      <td>0.053</td>\n      <td>-1.47</td>\n    </tr>\n  </tbody>\n</table>\n</div>"
     },
     "metadata": {},
     "execution_count": 66
    }
   ],
   "source": [
    "cotacao = pd.read_html(str(soup), decimal=',', thousands='.')[0]\n",
    "cotacao.drop(cotacao.keys()[1], axis=1)"
   ]
  },
  {
   "cell_type": "code",
   "execution_count": 67,
   "metadata": {},
   "outputs": [],
   "source": [
    "url = \"https://www.infomoney.com.br/ferramentas/criptomoedas/\"\n",
    "\n",
    "driver = webdriver.Firefox(options=option)\n",
    "driver.get(url)\n",
    "c = 0\n",
    "while 1:\n",
    "    try:\n",
    "        element = driver.find_element_by_id(\"cryptos_cotacoes\")\n",
    "        soup = BeautifulSoup(element.get_attribute(\"outerHTML\"), \"html.parser\")\n",
    "        driver.close()\n",
    "        break\n",
    "    except:\n",
    "        time.sleep(5)\n",
    "        print(\"Tentando novamente em 5s...\")\n",
    "        if c == 10:\n",
    "            print(\"Tente novamente mais tarde\")\n",
    "            driver.close()\n",
    "            break\n",
    "        c += 1"
   ]
  },
  {
   "cell_type": "code",
   "execution_count": 68,
   "metadata": {},
   "outputs": [
    {
     "output_type": "execute_result",
     "data": {
      "text/plain": "            Nome Valor Mercado  Preço (R$) Volume (R$ - 24h)  Variação (24h)\n0        Bitcoin       1012.6B    55093.40            228.3B             -24\n1       Ethereum        134.3B     1210.50             94.3B             140\n2            XRP         51.2B        1.16             11.2B             155\n3         Tether         50.4B        5.73            272.9B             218\n4   Bitcoin Cash         25.8B     1400.05             17.5B              12\n..           ...           ...         ...               ...             ...\n95     v.systems        272.2M        0.14             13.1M            -186\n96         SOLVE        270.7M        0.79             40.1M            2287\n97     HyperCash        267.4M        5.99             83.2M             147\n98      ReddCoin          260M        0.01              3.7M           -1184\n99      PAX Gold        254.3M     9974.93              5.8M             129\n\n[100 rows x 5 columns]",
      "text/html": "<div>\n<style scoped>\n    .dataframe tbody tr th:only-of-type {\n        vertical-align: middle;\n    }\n\n    .dataframe tbody tr th {\n        vertical-align: top;\n    }\n\n    .dataframe thead th {\n        text-align: right;\n    }\n</style>\n<table border=\"1\" class=\"dataframe\">\n  <thead>\n    <tr style=\"text-align: right;\">\n      <th></th>\n      <th>Nome</th>\n      <th>Valor Mercado</th>\n      <th>Preço (R$)</th>\n      <th>Volume (R$ - 24h)</th>\n      <th>Variação (24h)</th>\n    </tr>\n  </thead>\n  <tbody>\n    <tr>\n      <th>0</th>\n      <td>Bitcoin</td>\n      <td>1012.6B</td>\n      <td>55093.40</td>\n      <td>228.3B</td>\n      <td>-24</td>\n    </tr>\n    <tr>\n      <th>1</th>\n      <td>Ethereum</td>\n      <td>134.3B</td>\n      <td>1210.50</td>\n      <td>94.3B</td>\n      <td>140</td>\n    </tr>\n    <tr>\n      <th>2</th>\n      <td>XRP</td>\n      <td>51.2B</td>\n      <td>1.16</td>\n      <td>11.2B</td>\n      <td>155</td>\n    </tr>\n    <tr>\n      <th>3</th>\n      <td>Tether</td>\n      <td>50.4B</td>\n      <td>5.73</td>\n      <td>272.9B</td>\n      <td>218</td>\n    </tr>\n    <tr>\n      <th>4</th>\n      <td>Bitcoin Cash</td>\n      <td>25.8B</td>\n      <td>1400.05</td>\n      <td>17.5B</td>\n      <td>12</td>\n    </tr>\n    <tr>\n      <th>...</th>\n      <td>...</td>\n      <td>...</td>\n      <td>...</td>\n      <td>...</td>\n      <td>...</td>\n    </tr>\n    <tr>\n      <th>95</th>\n      <td>v.systems</td>\n      <td>272.2M</td>\n      <td>0.14</td>\n      <td>13.1M</td>\n      <td>-186</td>\n    </tr>\n    <tr>\n      <th>96</th>\n      <td>SOLVE</td>\n      <td>270.7M</td>\n      <td>0.79</td>\n      <td>40.1M</td>\n      <td>2287</td>\n    </tr>\n    <tr>\n      <th>97</th>\n      <td>HyperCash</td>\n      <td>267.4M</td>\n      <td>5.99</td>\n      <td>83.2M</td>\n      <td>147</td>\n    </tr>\n    <tr>\n      <th>98</th>\n      <td>ReddCoin</td>\n      <td>260M</td>\n      <td>0.01</td>\n      <td>3.7M</td>\n      <td>-1184</td>\n    </tr>\n    <tr>\n      <th>99</th>\n      <td>PAX Gold</td>\n      <td>254.3M</td>\n      <td>9974.93</td>\n      <td>5.8M</td>\n      <td>129</td>\n    </tr>\n  </tbody>\n</table>\n<p>100 rows × 5 columns</p>\n</div>"
     },
     "metadata": {},
     "execution_count": 68
    }
   ],
   "source": [
    "cotacao = pd.read_html(str(soup), decimal=',', thousands='.')[0]\n",
    "cotacao"
   ]
  },
  {
   "cell_type": "code",
   "execution_count": null,
   "metadata": {},
   "outputs": [],
   "source": []
  }
 ],
 "metadata": {
  "language_info": {
   "codemirror_mode": {
    "name": "ipython",
    "version": 3
   },
   "file_extension": ".py",
   "mimetype": "text/x-python",
   "name": "python",
   "nbconvert_exporter": "python",
   "pygments_lexer": "ipython3",
   "version": "3.8.2-final"
  },
  "orig_nbformat": 2,
  "kernelspec": {
   "name": "python38264biteb26ce5651cd441d90a8f541062acf9d",
   "display_name": "Python 3.8.2 64-bit"
  }
 },
 "nbformat": 4,
 "nbformat_minor": 2
}